{
 "cells": [
  {
   "cell_type": "code",
   "execution_count": 24,
   "id": "6e0e52df",
   "metadata": {},
   "outputs": [
    {
     "name": "stderr",
     "output_type": "stream",
     "text": [
      "\n",
      "\n",
      "====== WebDriver manager ======\n",
      "Current google-chrome version is 94.0.4606\n",
      "Get LATEST driver version for 94.0.4606\n",
      "Get LATEST driver version for 94.0.4606\n",
      "Trying to download new driver from https://chromedriver.storage.googleapis.com/94.0.4606.61/chromedriver_win32.zip\n",
      "Driver has been saved in cache [C:\\Users\\dmtib\\.wdm\\drivers\\chromedriver\\win32\\94.0.4606.61]\n"
     ]
    }
   ],
   "source": [
    "import os\n",
    "import requests\n",
    "import pandas as pd \n",
    "import selenium\n",
    "from bs4 import BeautifulSoup \n",
    "from splinter import Browser\n",
    "from webdriver_manager.chrome import ChromeDriverManager\n",
    "import time \n",
    "\n",
    "executable_path = {'executable_path': ChromeDriverManager().install()}\n",
    "browser = Browser('chrome', **executable_path, headless=False)"
   ]
  },
  {
   "cell_type": "markdown",
   "id": "f7e4f672",
   "metadata": {},
   "source": [
    "# NASA Mars News"
   ]
  },
  {
   "cell_type": "markdown",
   "id": "54ff763b",
   "metadata": {},
   "source": [
    "Scrape the Mars News Site and collect the latest News Title and Paragraph Text. "
   ]
  },
  {
   "cell_type": "code",
   "execution_count": 1,
   "id": "1a640b5a",
   "metadata": {},
   "outputs": [
    {
     "ename": "NameError",
     "evalue": "name 'requests' is not defined",
     "output_type": "error",
     "traceback": [
      "\u001b[1;31m---------------------------------------------------------------------------\u001b[0m",
      "\u001b[1;31mNameError\u001b[0m                                 Traceback (most recent call last)",
      "\u001b[1;32m<ipython-input-1-6de5f89b4e99>\u001b[0m in \u001b[0;36m<module>\u001b[1;34m\u001b[0m\n\u001b[0;32m      1\u001b[0m \u001b[1;31m#connect with Mars News website\u001b[0m\u001b[1;33m\u001b[0m\u001b[1;33m\u001b[0m\u001b[1;33m\u001b[0m\u001b[0m\n\u001b[0;32m      2\u001b[0m \u001b[0mmars_news_url\u001b[0m \u001b[1;33m=\u001b[0m \u001b[1;34m\"https://redplanetscience.com\"\u001b[0m\u001b[1;33m\u001b[0m\u001b[1;33m\u001b[0m\u001b[0m\n\u001b[1;32m----> 3\u001b[1;33m \u001b[0mnews_response\u001b[0m \u001b[1;33m=\u001b[0m \u001b[0mrequests\u001b[0m\u001b[1;33m.\u001b[0m\u001b[0mget\u001b[0m\u001b[1;33m(\u001b[0m\u001b[0mmars_news_url\u001b[0m\u001b[1;33m)\u001b[0m\u001b[1;33m\u001b[0m\u001b[1;33m\u001b[0m\u001b[0m\n\u001b[0m\u001b[0;32m      4\u001b[0m \u001b[1;33m\u001b[0m\u001b[0m\n\u001b[0;32m      5\u001b[0m \u001b[0mbrowser\u001b[0m\u001b[1;33m.\u001b[0m\u001b[0mvisit\u001b[0m\u001b[1;33m(\u001b[0m\u001b[0mmars_news_url\u001b[0m\u001b[1;33m)\u001b[0m\u001b[1;33m\u001b[0m\u001b[1;33m\u001b[0m\u001b[0m\n",
      "\u001b[1;31mNameError\u001b[0m: name 'requests' is not defined"
     ]
    }
   ],
   "source": [
    "\n",
    "#connect with Mars News website\n",
    "mars_news_url = \"https://redplanetscience.com\"\n",
    "news_response = requests.get(mars_news_url)\n",
    "\n",
    "browser.visit(mars_news_url)\n",
    "\n",
    "#create variable for soup results\n",
    "mars_news_hmtl = browser.html\n",
    "\n",
    "# Create BeautifulSoup object; parse with 'html.parser'\n",
    "soup = BeautifulSoup(mars_news_hmtl, \"html.parser\")\n",
    "#print(soup.prettify())\n",
    "results = soup.find_all(class_= \"col-md-8\")\n",
    "result = results[0]\n",
    "news_title = result.find(class_= \"content_title\").text\n",
    "print(news_title)\n",
    "news_p = result.find(class_= 'article_teaser_body').text\n",
    "print(news_p)\n",
    "print('-------------------')\n",
    "latest_news = {\"news_title\":news_title, \"news_p\":news_p}        \n",
    "browser.quit()\n"
   ]
  },
  {
   "cell_type": "markdown",
   "id": "a3e04bef",
   "metadata": {},
   "source": [
    "# JPL Mars Space Images - Featured Image"
   ]
  },
  {
   "cell_type": "code",
   "execution_count": 3,
   "id": "bdaf13c8",
   "metadata": {},
   "outputs": [
    {
     "name": "stdout",
     "output_type": "stream",
     "text": [
      "https://spaceimages-mars.com/image/featured/mars1.jpg\n"
     ]
    }
   ],
   "source": [
    "#Visit the url for the Featured Space Image site here.\n",
    "#Use splinter to navigate the site and find the image url for the current Featured Mars Image \n",
    "space_images_url = \"https://spaceimages-mars.com/\"\n",
    "browser.visit(space_images_url)\n",
    "\n",
    "#and assign the url string to a variable called featured_image_url.\n",
    "#Make sure to find the image url to the full size .jpg image & save a complete url string.\n",
    "\n",
    "space_images_hmtl = browser.html\n",
    "# Create BeautifulSoup object; parse with 'html.parser'\n",
    "soup = BeautifulSoup(space_images_hmtl, \"html.parser\")\n",
    "#print(soup.prettify())\n",
    "\n",
    "result = soup.find(class_=\"headerimage fade-in\")\n",
    "featured_image_url = space_images_url + result['src']\n",
    "print(featured_image_url)\n",
    "\n"
   ]
  },
  {
   "cell_type": "markdown",
   "id": "37aeddb4",
   "metadata": {},
   "source": [
    "# Mars Facts "
   ]
  },
  {
   "cell_type": "code",
   "execution_count": 52,
   "id": "a1aab1ba",
   "metadata": {},
   "outputs": [
    {
     "data": {
      "text/html": [
       "<div>\n",
       "<style scoped>\n",
       "    .dataframe tbody tr th:only-of-type {\n",
       "        vertical-align: middle;\n",
       "    }\n",
       "\n",
       "    .dataframe tbody tr th {\n",
       "        vertical-align: top;\n",
       "    }\n",
       "\n",
       "    .dataframe thead th {\n",
       "        text-align: right;\n",
       "    }\n",
       "</style>\n",
       "<table border=\"1\" class=\"dataframe\">\n",
       "  <thead>\n",
       "    <tr style=\"text-align: right;\">\n",
       "      <th></th>\n",
       "      <th>1</th>\n",
       "    </tr>\n",
       "  </thead>\n",
       "  <tbody>\n",
       "    <tr>\n",
       "      <th>Equatorial Diameter:</th>\n",
       "      <td>6,792 km</td>\n",
       "    </tr>\n",
       "    <tr>\n",
       "      <th>Polar Diameter:</th>\n",
       "      <td>6,752 km</td>\n",
       "    </tr>\n",
       "    <tr>\n",
       "      <th>Mass:</th>\n",
       "      <td>6.39 × 10^23 kg (0.11 Earths)</td>\n",
       "    </tr>\n",
       "    <tr>\n",
       "      <th>Moons:</th>\n",
       "      <td>2 ( Phobos &amp; Deimos )</td>\n",
       "    </tr>\n",
       "    <tr>\n",
       "      <th>Orbit Distance:</th>\n",
       "      <td>227,943,824 km (1.38 AU)</td>\n",
       "    </tr>\n",
       "    <tr>\n",
       "      <th>Orbit Period:</th>\n",
       "      <td>687 days (1.9 years)</td>\n",
       "    </tr>\n",
       "    <tr>\n",
       "      <th>Surface Temperature:</th>\n",
       "      <td>-87 to -5 °C</td>\n",
       "    </tr>\n",
       "    <tr>\n",
       "      <th>First Record:</th>\n",
       "      <td>2nd millennium BC</td>\n",
       "    </tr>\n",
       "    <tr>\n",
       "      <th>Recorded By:</th>\n",
       "      <td>Egyptian astronomers</td>\n",
       "    </tr>\n",
       "  </tbody>\n",
       "</table>\n",
       "</div>"
      ],
      "text/plain": [
       "                                                  1\n",
       "Equatorial Diameter:                       6,792 km\n",
       "Polar Diameter:                            6,752 km\n",
       "Mass:                 6.39 × 10^23 kg (0.11 Earths)\n",
       "Moons:                        2 ( Phobos & Deimos )\n",
       "Orbit Distance:            227,943,824 km (1.38 AU)\n",
       "Orbit Period:                  687 days (1.9 years)\n",
       "Surface Temperature:                   -87 to -5 °C\n",
       "First Record:                     2nd millennium BC\n",
       "Recorded By:                   Egyptian astronomers"
      ]
     },
     "execution_count": 52,
     "metadata": {},
     "output_type": "execute_result"
    }
   ],
   "source": [
    "#Visit the Mars Facts webpage here and use Pandas to scrape the table containing facts about the planet \n",
    "#including Diameter, Mass, etc\n",
    "\n",
    "mars_facts_url = \"https://galaxyfacts-mars.com\"\n",
    "mars_facts_response = requests.get(mars_facts_url)\n",
    "\n",
    "mars_facts_tables = pd.read_html(mars_facts_url)\n",
    "mars_facts_tables\n",
    "mars_profile_table = mars_facts_tables[1]\n",
    "mars_profile_table.rename(columns={0:\"Mars Facts\"}, inplace = True)\n",
    "\n",
    "mars_profile_table.set_index([\"Mars Facts\"], inplace = True)\n",
    "mars_profile_table.index.name = None\n",
    "mars_profile_table"
   ]
  },
  {
   "cell_type": "code",
   "execution_count": 38,
   "id": "54585132",
   "metadata": {},
   "outputs": [],
   "source": [
    "#Use Pandas to convert the data to a HTML table string.\n",
    "mars_profile_html_table = mars_profile_table.to_html(classes = \"table table-condensed table-striped table-bordered \", header= False)\n",
    "\n",
    "def pretty_print(mars_profile_html_table):\n",
    "    return(mars_profile_html_table)\n",
    "\n"
   ]
  },
  {
   "cell_type": "code",
   "execution_count": 40,
   "id": "3d37d2c4",
   "metadata": {},
   "outputs": [
    {
     "name": "stdout",
     "output_type": "stream",
     "text": [
      "<table border=\"1\" class=\"dataframe table\">\n",
      "  <thead>\n",
      "    <tr>\n",
      "      <th>0</th>\n",
      "      <th></th>\n",
      "    </tr>\n",
      "  </thead>\n",
      "  <tbody>\n",
      "    <tr>\n",
      "      <th>Equatorial Diameter:</th>\n",
      "      <td>6,792 km</td>\n",
      "    </tr>\n",
      "    <tr>\n",
      "      <th>Polar Diameter:</th>\n",
      "      <td>6,752 km</td>\n",
      "    </tr>\n",
      "    <tr>\n",
      "      <th>Mass:</th>\n",
      "      <td>6.39 × 10^23 kg (0.11 Earths)</td>\n",
      "    </tr>\n",
      "    <tr>\n",
      "      <th>Moons:</th>\n",
      "      <td>2 ( Phobos &amp; Deimos )</td>\n",
      "    </tr>\n",
      "    <tr>\n",
      "      <th>Orbit Distance:</th>\n",
      "      <td>227,943,824 km (1.38 AU)</td>\n",
      "    </tr>\n",
      "    <tr>\n",
      "      <th>Orbit Period:</th>\n",
      "      <td>687 days (1.9 years)</td>\n",
      "    </tr>\n",
      "    <tr>\n",
      "      <th>Surface Temperature:</th>\n",
      "      <td>-87 to -5 °C</td>\n",
      "    </tr>\n",
      "    <tr>\n",
      "      <th>First Record:</th>\n",
      "      <td>2nd millennium BC</td>\n",
      "    </tr>\n",
      "    <tr>\n",
      "      <th>Recorded By:</th>\n",
      "      <td>Egyptian astronomers</td>\n",
      "    </tr>\n",
      "  </tbody>\n",
      "</table>\n"
     ]
    }
   ],
   "source": [
    "print(mars_profile_html_table)"
   ]
  },
  {
   "cell_type": "code",
   "execution_count": 27,
   "id": "80ecaee3",
   "metadata": {},
   "outputs": [],
   "source": [
    "\n",
    "# Mars Hemispheres\n",
    "#Save both the image url string for the full resolution hemisphere image, and the Hemisphere title containing the hemisphere name. \n",
    "#Use a Python dictionary to store the data using the keys img_url and title."
   ]
  },
  {
   "cell_type": "code",
   "execution_count": 21,
   "id": "7cbbf394",
   "metadata": {},
   "outputs": [
    {
     "name": "stdout",
     "output_type": "stream",
     "text": [
      "images/f5e372a36edfa389625da6d0cc25d905_cerberus_enhanced.tif_full.jpg\n",
      "images/3778f7b43bbbc89d6e3cfabb3613ba93_schiaparelli_enhanced.tif_full.jpg\n",
      "images/555e6403a6ddd7ba16ddb0e471cadcf7_syrtis_major_enhanced.tif_full.jpg\n",
      "images/b3c7c6c9138f57b4756be9b9c43e3a48_valles_marineris_enhanced.tif_full.jpg\n"
     ]
    }
   ],
   "source": [
    "#Visit the astrogeology site here to obtain high resolution images for each of Mar's hemispheres.\n",
    "#You will need to click each of the links to the hemispheres in order to find the image url to the full resolution image\n",
    "\n",
    "mars_images_url = \"https://marshemispheres.com/\"\n",
    "browser.visit(mars_images_url)\n",
    "mars_images_hmtl = browser.html\n",
    "soup = BeautifulSoup(mars_images_hmtl, \"html.parser\")\n",
    "#print(soup.prettify())\n",
    "\n",
    "#This list will contain one dictionary for each hemisphere.\n",
    "hemisphere_image_urls = []\n",
    "\n",
    "hemispheres = soup.find_all(class_= \"description\")\n",
    "#print(hemispheres)\n",
    "for hemisphere in hemispheres:\n",
    "    #find and click the link to the hemisphere\n",
    "    link = (hemisphere.find('a')['href'])\n",
    "    browser.visit('https://marshemispheres.com/' + link)\n",
    "    html = browser.html\n",
    "    soup = BeautifulSoup(html, \"html.parser\")\n",
    "    #print(soup.prettify())\n",
    "    #find image url & title\n",
    "    img_url = soup.find(class_= \"wide-image\")['src']\n",
    "    title = soup.find('h2', class_ = \"title\").text\n",
    "    title = title.split()\n",
    "    #print(title[0] + \" \" + title[1])\n",
    "    #print(img_url)\n",
    "    \n",
    "    #Append the dictionary with the image url string and the hemisphere title to a list.\n",
    "    dict = {\"title\" : title[0] + \" \" + title[1], \"img_url\": 'https://marshemispheres.com/' + img_url}\n",
    "    hemisphere_image_urls.append(dict)\n",
    "    "
   ]
  },
  {
   "cell_type": "code",
   "execution_count": 22,
   "id": "bbdbea6f",
   "metadata": {},
   "outputs": [
    {
     "data": {
      "text/plain": [
       "[{'title': 'Cerberus Hemisphere',\n",
       "  'img_url': 'https://marshemispheres.com/images/f5e372a36edfa389625da6d0cc25d905_cerberus_enhanced.tif_full.jpg'},\n",
       " {'title': 'Schiaparelli Hemisphere',\n",
       "  'img_url': 'https://marshemispheres.com/images/3778f7b43bbbc89d6e3cfabb3613ba93_schiaparelli_enhanced.tif_full.jpg'},\n",
       " {'title': 'Syrtis Major',\n",
       "  'img_url': 'https://marshemispheres.com/images/555e6403a6ddd7ba16ddb0e471cadcf7_syrtis_major_enhanced.tif_full.jpg'},\n",
       " {'title': 'Valles Marineris',\n",
       "  'img_url': 'https://marshemispheres.com/images/b3c7c6c9138f57b4756be9b9c43e3a48_valles_marineris_enhanced.tif_full.jpg'}]"
      ]
     },
     "execution_count": 22,
     "metadata": {},
     "output_type": "execute_result"
    }
   ],
   "source": [
    " hemisphere_image_urls \n"
   ]
  },
  {
   "cell_type": "code",
   "execution_count": 2,
   "id": "218ed05b",
   "metadata": {},
   "outputs": [],
   "source": [
    "def scrape():\n",
    "    \n",
    "    ###########################\n",
    "    #connect with Mars News website\n",
    "    mars_news_url = \"https://redplanetscience.com\"\n",
    "    news_response = requests.get(mars_news_url)\n",
    "    browser.visit(mars_news_url)\n",
    "\n",
    "    #create variable for soup results\n",
    "    mars_news_hmtl = browser.html\n",
    "\n",
    "    # Create BeautifulSoup object; parse with 'html.parser'\n",
    "    soup = BeautifulSoup(mars_news_hmtl, \"html.parser\")\n",
    "    #print(soup.prettify())\n",
    "    results = soup.find_all(class_= \"col-md-8\")\n",
    "    latest_result = results[0]\n",
    "    news_title = latest_result.find(class_= \"content_title\").text\n",
    "   #print(news_title)\n",
    "    news_p = latest_result.find(class_= 'article_teaser_body').text\n",
    "    #print(news_p)\n",
    "    #print('-------------------')\n",
    "    latest_news = {\"news_title\":news_title, \"news_p\":news_p}\n",
    "    \n",
    "    #browser.quit()\n",
    "    time.sleep(2)\n",
    "    #############################################\n",
    "    #Visit the url for the Featured Space Image site here.\n",
    "    #Use splinter to navigate the site and find the image url for the current Featured Mars Image \n",
    "    space_images_url = \"https://spaceimages-mars.com/\"\n",
    "    images_response = requests.get(space_images_url)\n",
    "    browser.visit(space_images_url)\n",
    "\n",
    "    space_images_hmtl = browser.html\n",
    "    # Create BeautifulSoup object; parse with 'html.parser'\n",
    "    soup = BeautifulSoup(space_images_hmtl, \"html.parser\")\n",
    "    #print(soup.prettify())\n",
    "\n",
    "    result = soup.find(class_=\"headerimage fade-in\")\n",
    "    featured_image_url = space_images_url + result['src']\n",
    "    #print(featured_image_url)\n",
    "    \n",
    "    #browser.quit()\n",
    "    time.sleep(2)\n",
    "    ###########################################\n",
    "    #Visit the Mars Facts webpage here and use Pandas to scrape the table containing facts about the planet \n",
    "    #including Diameter, Mass, etc\n",
    "    mars_facts_url = \"https://galaxyfacts-mars.com\"\n",
    "    mars_facts_response = requests.get(mars_facts_url)\n",
    "\n",
    "    mars_facts_tables = pd.read_html(mars_facts_url)\n",
    "    #mars_facts_tables\n",
    "    mars_profile_table = mars_facts_tables[1]\n",
    "    mars_profile_table.set_index([0], inplace = True)\n",
    "    #mars_profile_table\n",
    "    \n",
    "    #Use Pandas to convert the data to a HTML table string.\n",
    "    mars_profile_html_table = mars_profile_table.to_html()\n",
    "    mars_profile_html_table\n",
    "    \n",
    "    ##############################################\n",
    "    #Visit the astrogeology site here to obtain high resolution images for each of Mar's hemispheres.\n",
    "    #You will need to click each of the links to the hemispheres in order to find the image url to the full resolution image\n",
    "    mars_images_url = \"https://marshemispheres.com/\"\n",
    "    browser.visit(mars_images_url)\n",
    "    mars_images_hmtl = browser.html\n",
    "    soup = BeautifulSoup(mars_images_hmtl, \"html.parser\")\n",
    "    #print(soup.prettify())\n",
    "\n",
    "    #This list will contain one dictionary for each hemisphere.\n",
    "    hemisphere_image_urls = []\n",
    "\n",
    "    hemispheres = soup.find_all(class_= \"description\")\n",
    "\n",
    "    for hemisphere in hemispheres:\n",
    "        #find and click the link to the hemisphere\n",
    "        link = (hemisphere.find('a')['href'])\n",
    "        browser.visit('https://marshemispheres.com/' + link)\n",
    "        html = browser.html\n",
    "        soup = BeautifulSoup(html, \"html.parser\")\n",
    "        #find image url & title\n",
    "        img_url = soup.find(class_= \"description\").a['href']\n",
    "        title = soup.find('h2', class_ = \"title\").text\n",
    "        title = title.split()\n",
    "        #print(title[0] + \" \" + title[1])\n",
    "        #print(img_url)\n",
    "    \n",
    "        #Append the dictionary with the image url string and the hemisphere title to a list.\n",
    "        dict = {\"title\" : title[0] + \" \" + title[1], \"img_url\": mars_images_url + img_url}\n",
    "        hemisphere_image_urls.append(dict)\n",
    "        \n",
    "        #browser.quit()\n",
    "        time.sleep(2)\n",
    "        ##############################################\n",
    "    #return results\n",
    "    \n",
    "    # create dict for results\n",
    "    scrape_results = {\"latest_news\": latest_news, \"featured_image_url\": featured_image_url, \n",
    "          \"mars_profile_html_table\":mars_profile_html_table,\n",
    "           \"hemisphere_image_urls\":hemisphere_image_urls}\n",
    "    \n",
    "    #return scrape_results\n",
    "    return scrape_results\n",
    "    \n",
    "    browser.quit()\n",
    "    \n",
    "    "
   ]
  },
  {
   "cell_type": "code",
   "execution_count": 3,
   "id": "e053916b",
   "metadata": {},
   "outputs": [
    {
     "name": "stdout",
     "output_type": "stream",
     "text": [
      "NASA Engineers Checking InSight's Weather Sensors\n",
      "An electronics issue is suspected to be preventing the sensors from sharing their data about Mars weather with the spacecraft.\n",
      "-------------------\n",
      "https://spaceimages-mars.com/image/featured/mars3.jpg\n"
     ]
    },
    {
     "data": {
      "text/plain": [
       "{'latest_news': {'news_title': \"NASA Engineers Checking InSight's Weather Sensors\",\n",
       "  'news_p': 'An electronics issue is suspected to be preventing the sensors from sharing their data about Mars weather with the spacecraft.'},\n",
       " 'featured_image_url': 'https://spaceimages-mars.com/image/featured/mars3.jpg',\n",
       " 'mars_profile_html_table': '<table border=\"1\" class=\"dataframe\">\\n  <thead>\\n    <tr style=\"text-align: right;\">\\n      <th></th>\\n      <th>1</th>\\n    </tr>\\n    <tr>\\n      <th>0</th>\\n      <th></th>\\n    </tr>\\n  </thead>\\n  <tbody>\\n    <tr>\\n      <th>Equatorial Diameter:</th>\\n      <td>6,792 km</td>\\n    </tr>\\n    <tr>\\n      <th>Polar Diameter:</th>\\n      <td>6,752 km</td>\\n    </tr>\\n    <tr>\\n      <th>Mass:</th>\\n      <td>6.39 × 10^23 kg (0.11 Earths)</td>\\n    </tr>\\n    <tr>\\n      <th>Moons:</th>\\n      <td>2 ( Phobos &amp; Deimos )</td>\\n    </tr>\\n    <tr>\\n      <th>Orbit Distance:</th>\\n      <td>227,943,824 km (1.38 AU)</td>\\n    </tr>\\n    <tr>\\n      <th>Orbit Period:</th>\\n      <td>687 days (1.9 years)</td>\\n    </tr>\\n    <tr>\\n      <th>Surface Temperature:</th>\\n      <td>-87 to -5 °C</td>\\n    </tr>\\n    <tr>\\n      <th>First Record:</th>\\n      <td>2nd millennium BC</td>\\n    </tr>\\n    <tr>\\n      <th>Recorded By:</th>\\n      <td>Egyptian astronomers</td>\\n    </tr>\\n  </tbody>\\n</table>',\n",
       " 'hemisphere_image_urls': [{'title': 'Cerberus Hemisphere',\n",
       "   'img_url': 'https://marshemispheres.com/images/cerberus_enhanced.tif'},\n",
       "  {'title': 'Schiaparelli Hemisphere',\n",
       "   'img_url': 'https://marshemispheres.com/images/schiaparelli_enhanced.tif'},\n",
       "  {'title': 'Syrtis Major',\n",
       "   'img_url': 'https://marshemispheres.com/images/syrtis_major_enhanced.tif'},\n",
       "  {'title': 'Valles Marineris',\n",
       "   'img_url': 'https://marshemispheres.com/images/valles_marineris_enhanced.tif'}]}"
      ]
     },
     "execution_count": 3,
     "metadata": {},
     "output_type": "execute_result"
    }
   ],
   "source": [
    "scrape()"
   ]
  },
  {
   "cell_type": "code",
   "execution_count": null,
   "id": "0fed9a42",
   "metadata": {},
   "outputs": [],
   "source": []
  }
 ],
 "metadata": {
  "kernelspec": {
   "display_name": "Python [conda env:Python_Requirements_Windows] *",
   "language": "python",
   "name": "conda-env-Python_Requirements_Windows-py"
  },
  "language_info": {
   "codemirror_mode": {
    "name": "ipython",
    "version": 3
   },
   "file_extension": ".py",
   "mimetype": "text/x-python",
   "name": "python",
   "nbconvert_exporter": "python",
   "pygments_lexer": "ipython3",
   "version": "3.6.10"
  }
 },
 "nbformat": 4,
 "nbformat_minor": 5
}
